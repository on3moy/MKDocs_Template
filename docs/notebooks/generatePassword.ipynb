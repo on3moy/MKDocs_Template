{
 "cells": [
  {
   "cell_type": "markdown",
   "metadata": {},
   "source": [
    "# Create a Password Generator 🦖"
   ]
  },
  {
   "cell_type": "markdown",
   "metadata": {},
   "source": [
    "## Imports"
   ]
  },
  {
   "cell_type": "code",
   "execution_count": 48,
   "metadata": {},
   "outputs": [],
   "source": [
    "# Import\n",
    "import string\n",
    "import random"
   ]
  },
  {
   "cell_type": "markdown",
   "metadata": {},
   "source": [
    "## Function"
   ]
  },
  {
   "cell_type": "code",
   "execution_count": 49,
   "metadata": {},
   "outputs": [],
   "source": [
    "def generatePassword(without_punctuation: bool = False, character_length: int = 32) -> str:\n",
    "    '''Returns a generated password\n",
    "    without_punctuation:\n",
    "        True: Leave out punctuation\n",
    "        False: Include punctuation\n",
    "    character_legth: number of characters you want your password to be\n",
    "    '''\n",
    "\n",
    "    allowed_punctuation = '!@#$%*()-_^'\n",
    "    \n",
    "    if without_punctuation:\n",
    "        word_bank = string.ascii_letters + string.digits\n",
    "    else:\n",
    "        word_bank = string.ascii_letters + allowed_punctuation + string.digits\n",
    "    \n",
    "    generated_password = ''.join([random.choice(word_bank) for _ in range(character_length)])\n",
    "\n",
    "    print(generated_password)"
   ]
  },
  {
   "cell_type": "markdown",
   "metadata": {},
   "source": [
    "# Generate Password"
   ]
  },
  {
   "cell_type": "code",
   "execution_count": 50,
   "metadata": {},
   "outputs": [
    {
     "name": "stdout",
     "output_type": "stream",
     "text": [
      "8@Jf!fDtzWYC3_E_3Q2YI2ptOW2f@8Fb\n"
     ]
    }
   ],
   "source": [
    "generatePassword()"
   ]
  }
 ],
 "metadata": {
  "kernelspec": {
   "display_name": "mkdocs3.13",
   "language": "python",
   "name": "python3"
  },
  "language_info": {
   "codemirror_mode": {
    "name": "ipython",
    "version": 3
   },
   "file_extension": ".py",
   "mimetype": "text/x-python",
   "name": "python",
   "nbconvert_exporter": "python",
   "pygments_lexer": "ipython3",
   "version": "3.13.1"
  }
 },
 "nbformat": 4,
 "nbformat_minor": 2
}
